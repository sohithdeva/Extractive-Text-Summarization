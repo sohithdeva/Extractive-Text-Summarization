{
 "cells": [
  {
   "cell_type": "markdown",
   "metadata": {},
   "source": [
    "1. **Text Cleaning**\n",
    "2. **Sentence Tokenization**\n",
    "3. **Word Tokenization**\n",
    "4. **Word frequency Table**\n",
    "5. **Summarization**"
   ]
  },
  {
   "cell_type": "code",
   "execution_count": 4,
   "metadata": {},
   "outputs": [],
   "source": [
    "text= \"\"\"In response to an earlier email of the undersigned sent to FD, HD and PhD students, we have received few representations from the student body raising certain concerns. The Vice Chancellor and the Directors of Pilani, Goa & Hyderabad Campuses met the Students Union Presidents and General Secretaries yesterday evening and discussed this at length. Clarifications on several issues that the students have raised are presented below. The clarifications apply to all FD, HD and PhD students.\n",
    "\n",
    "1.      Non-availability of a stable Internet connection or problems related to power supply.\n",
    "\n",
    "While a continuous internet connectivity of desired bandwidth is advised, it is not mandatory. What is essential is Internet connectivity at two stages in the exam:\n",
    "\n",
    "a) Beginning of the exam – to download the EDoc (Exam Docket).  The typical size of this EDoc may usually be around 10 MB, which contains the Question Paper, student subject details, ID number etc.\n",
    "\n",
    "b) At the end of the exam – to upload the ADoc (Answer Docket). At the end of every exam, the ADoc is automatically prepared by the application. The ADoc contains the answer script, the images imported by students as part of the answer script, the proctored images of students along with audio files. The typical size of ADoc file is generally 60 MB for a 2-hour exam. Both these activities (i.e. download of EDoc and upload of ADoc) happen automatically when the student logs in to the application at the allotted time.\n",
    "\n",
    "The student should download the encrypted form of question paper at least 2 hours before the start of examination. It is important to note that intermittent loss of Internet connectivity or lower bandwidth will not affect the student’s exam attempt. If the application or device shuts down, then the student can restart the application and login and the exam will start from the point of last interaction on the application. Any time taken in restarting the device and application will be added to the student's exam time so no time or data is lost during this process.\n",
    "\n",
    "Students are however strongly advised to fully charge the devices beforehand to enable them to run for at least 2 hours.\n",
    "\n",
    "2.      On the requirement of Windows/Android platforms.\n",
    "\n",
    "We do understand that few of the students may be using iOS/Linux or other platforms. That is the reason why the app is also made available on Android.  Most of the students have access either to a laptop/PC running on Windows or an Android phone. All are advised to make suitable arrangement as required.\n",
    "\n",
    "For those students who are unable to make these arrangements, the Institute will arrange for a Comprehensive Examination in one of the campuses of BITS at a later date, when the situation improves and allowing students to campuses become feasible. The date of such examinations will be announced later, but is not likely to be before mid-January, 2021.   \n",
    "\n",
    "3.      Mandatory requirement of a camera in the device.\n",
    "\n",
    "Yes, it is mandatory to have a camera to write the Comprehensive Examination. While it is desirable to have a 2 MP camera resolution, it is permissible with lower resolutions too. Images of written answers on paper can be captured by connecting a smartphone to the laptop through a data cable. Captured images can be pasted in the answer sheet using the folder icon within the application and selecting the image folder in the smartphone. As the smartphone camera is usually more powerful, the images captured with proper light on the answer sheets are superior.\"\"\""
   ]
  },
  {
   "cell_type": "code",
   "execution_count": 2,
   "metadata": {},
   "outputs": [
    {
     "name": "stdout",
     "output_type": "stream",
     "text": [
      "Requirement already up-to-date: spacy in c:\\programdata\\anaconda3\\lib\\site-packages (3.0.1)\n",
      "Requirement already satisfied, skipping upgrade: numpy>=1.15.0 in c:\\programdata\\anaconda3\\lib\\site-packages (from spacy) (1.18.5)\n",
      "Requirement already satisfied, skipping upgrade: pydantic<1.8.0,>=1.7.1 in c:\\programdata\\anaconda3\\lib\\site-packages (from spacy) (1.7.3)\n",
      "Requirement already satisfied, skipping upgrade: catalogue<2.1.0,>=2.0.1 in c:\\programdata\\anaconda3\\lib\\site-packages (from spacy) (2.0.1)\n",
      "Requirement already satisfied, skipping upgrade: typer<0.4.0,>=0.3.0 in c:\\programdata\\anaconda3\\lib\\site-packages (from spacy) (0.3.2)\n",
      "Requirement already satisfied, skipping upgrade: pathy in c:\\programdata\\anaconda3\\lib\\site-packages (from spacy) (0.3.5)\n",
      "Requirement already satisfied, skipping upgrade: setuptools in c:\\programdata\\anaconda3\\lib\\site-packages (from spacy) (49.2.0.post20200714)\n",
      "Requirement already satisfied, skipping upgrade: blis<0.8.0,>=0.4.0 in c:\\programdata\\anaconda3\\lib\\site-packages (from spacy) (0.7.4)\n",
      "Requirement already satisfied, skipping upgrade: jinja2 in c:\\programdata\\anaconda3\\lib\\site-packages (from spacy) (2.11.2)\n",
      "Requirement already satisfied, skipping upgrade: packaging>=20.0 in c:\\programdata\\anaconda3\\lib\\site-packages (from spacy) (20.4)\n",
      "Requirement already satisfied, skipping upgrade: cymem<2.1.0,>=2.0.2 in c:\\programdata\\anaconda3\\lib\\site-packages (from spacy) (2.0.5)\n",
      "Requirement already satisfied, skipping upgrade: murmurhash<1.1.0,>=0.28.0 in c:\\programdata\\anaconda3\\lib\\site-packages (from spacy) (1.0.5)\n",
      "Requirement already satisfied, skipping upgrade: thinc<8.1.0,>=8.0.0 in c:\\programdata\\anaconda3\\lib\\site-packages (from spacy) (8.0.1)\n",
      "Requirement already satisfied, skipping upgrade: wasabi<1.1.0,>=0.8.1 in c:\\programdata\\anaconda3\\lib\\site-packages (from spacy) (0.8.2)\n",
      "Requirement already satisfied, skipping upgrade: srsly<3.0.0,>=2.4.0 in c:\\programdata\\anaconda3\\lib\\site-packages (from spacy) (2.4.0)\n",
      "Requirement already satisfied, skipping upgrade: tqdm<5.0.0,>=4.38.0 in c:\\programdata\\anaconda3\\lib\\site-packages (from spacy) (4.47.0)\n",
      "Requirement already satisfied, skipping upgrade: requests<3.0.0,>=2.13.0 in c:\\programdata\\anaconda3\\lib\\site-packages (from spacy) (2.24.0)\n",
      "Requirement already satisfied, skipping upgrade: preshed<3.1.0,>=3.0.2 in c:\\programdata\\anaconda3\\lib\\site-packages (from spacy) (3.0.5)\n",
      "Requirement already satisfied, skipping upgrade: spacy-legacy<3.1.0,>=3.0.0 in c:\\programdata\\anaconda3\\lib\\site-packages (from spacy) (3.0.1)\n",
      "Requirement already satisfied, skipping upgrade: click<7.2.0,>=7.1.1 in c:\\programdata\\anaconda3\\lib\\site-packages (from typer<0.4.0,>=0.3.0->spacy) (7.1.2)\n",
      "Requirement already satisfied, skipping upgrade: smart-open<4.0.0,>=2.2.0 in c:\\programdata\\anaconda3\\lib\\site-packages (from pathy->spacy) (3.0.0)\n",
      "Requirement already satisfied, skipping upgrade: MarkupSafe>=0.23 in c:\\programdata\\anaconda3\\lib\\site-packages (from jinja2->spacy) (1.1.1)\n",
      "Requirement already satisfied, skipping upgrade: pyparsing>=2.0.2 in c:\\programdata\\anaconda3\\lib\\site-packages (from packaging>=20.0->spacy) (2.4.7)\n",
      "Requirement already satisfied, skipping upgrade: six in c:\\programdata\\anaconda3\\lib\\site-packages (from packaging>=20.0->spacy) (1.15.0)\n",
      "Requirement already satisfied, skipping upgrade: certifi>=2017.4.17 in c:\\programdata\\anaconda3\\lib\\site-packages (from requests<3.0.0,>=2.13.0->spacy) (2020.6.20)\n",
      "Requirement already satisfied, skipping upgrade: idna<3,>=2.5 in c:\\programdata\\anaconda3\\lib\\site-packages (from requests<3.0.0,>=2.13.0->spacy) (2.10)\n",
      "Requirement already satisfied, skipping upgrade: urllib3!=1.25.0,!=1.25.1,<1.26,>=1.21.1 in c:\\programdata\\anaconda3\\lib\\site-packages (from requests<3.0.0,>=2.13.0->spacy) (1.25.9)\n",
      "Requirement already satisfied, skipping upgrade: chardet<4,>=3.0.2 in c:\\programdata\\anaconda3\\lib\\site-packages (from requests<3.0.0,>=2.13.0->spacy) (3.0.4)\n",
      "Note: you may need to restart the kernel to use updated packages.\n"
     ]
    }
   ],
   "source": [
    "pip install -U spacy"
   ]
  },
  {
   "cell_type": "code",
   "execution_count": 1,
   "metadata": {},
   "outputs": [],
   "source": [
    "import spacy"
   ]
  },
  {
   "cell_type": "code",
   "execution_count": 6,
   "metadata": {},
   "outputs": [
    {
     "name": "stdout",
     "output_type": "stream",
     "text": [
      "✔ Download and installation successful\n",
      "You can now load the package via spacy.load('en_core_web_sm')\n"
     ]
    }
   ],
   "source": [
    "spacy.cli.download(\"en_core_web_sm\")\n"
   ]
  },
  {
   "cell_type": "code",
   "execution_count": 9,
   "metadata": {},
   "outputs": [],
   "source": [
    "from spacy.lang.en.stop_words import STOP_WORDS\n",
    "from string import punctuation"
   ]
  },
  {
   "cell_type": "code",
   "execution_count": 10,
   "metadata": {},
   "outputs": [],
   "source": [
    "stopwords= list(STOP_WORDS)\n",
    "#We formed a list Stop Words"
   ]
  },
  {
   "cell_type": "code",
   "execution_count": 6,
   "metadata": {},
   "outputs": [],
   "source": [
    "nlp= spacy.load('en_core_web_sm')\n",
    "#We created an NLP Model"
   ]
  },
  {
   "cell_type": "code",
   "execution_count": 11,
   "metadata": {},
   "outputs": [],
   "source": [
    "doc = nlp(text)\n",
    "#Passed text inside NLP\n",
    "#We got tokenized words in doc"
   ]
  },
  {
   "cell_type": "code",
   "execution_count": 55,
   "metadata": {},
   "outputs": [
    {
     "name": "stdout",
     "output_type": "stream",
     "text": [
      "[\"'\", 'Shakespeare', 'occupies', 'a', 'position', 'unique', 'in', 'world', 'literature', '.', 'Other', 'poets', ',', 'such', 'as', 'Homer', 'and', 'Dante', ',', 'and', 'novelists', ',', 'such', 'as', 'Leo', 'Tolstoy', 'and', 'Charles', 'Dickens', ',', 'have', 'transcended', 'national', 'barriers', ',', 'but', 'no', 'writer', '’s', 'living', 'reputation', 'can', 'compare', 'to', 'that', 'of', 'Shakespeare', ',', 'whose', 'plays', ',', 'written', 'in', 'the', 'late', '16th', 'and', 'early', '17th', 'centuries', 'for', 'a', 'small', 'repertory', 'theatre', ',', 'are', 'now', 'performed', 'and', 'read', 'more', 'often', 'and', 'in', 'more', 'countries', 'than', 'ever', 'before', '.', 'The', 'prophecy', 'of', 'his', 'great', 'contemporary', ',', 'the', 'poet', 'and', 'dramatist', 'Ben', 'Jonson', ',', 'that', 'Shakespeare', '“', 'was', 'not', 'of', 'an', 'age', ',', 'but', 'for', 'all', 'time', ',', '”', 'has', 'been', 'fulfilled', '.', 'It', 'may', 'be', 'audacious', 'even', 'to', 'attempt', 'a', 'definition', 'of', 'his', 'greatness', ',', 'but', 'it', 'is', 'not', 'so', 'difficult', 'to', 'describe', 'the', 'gifts', 'that', 'enabled', 'him', 'to', 'create', 'imaginative', 'visions', 'of', 'pathos', 'and', 'mirth', 'that', ',', 'whether', 'read', 'or', 'witnessed', 'in', 'the', 'theatre', ',', 'fill', 'the', 'mind', 'and', 'linger', 'there', '.', 'He', 'is', 'a', 'writer', 'of', 'great', 'intellectual', 'rapidity', ',', 'perceptiveness', ',', 'and', 'poetic', 'power', '.', 'Other', 'writers', 'have', 'had', 'these', 'qualities', ',', 'but', 'with', 'Shakespeare', 'the', 'keenness', 'of', 'mind', 'was', 'applied', 'not', 'to', 'abstruse', 'or', 'remote', 'subjects', 'but', 'to', 'human', 'beings', 'and', 'their', 'complete', 'range', 'of', 'emotions', 'and', 'conflicts', '.', 'Other', 'writers', 'have', 'applied', 'their', 'keenness', 'of', 'mind', 'in', 'this', 'way', ',', 'but', 'Shakespeare', 'is', 'astonishingly', 'clever', 'with', 'words', 'and', 'images', ',', 'so', 'that', 'his', 'mental', 'energy', ',', 'when', 'applied', 'to', 'intelligible', 'human', 'situations', ',', 'finds', 'full', 'and', 'memorable', 'expression', ',', 'convincing', 'and', 'imaginatively', 'stimulating', '.', 'As', 'if', 'this', 'were', 'not', 'enough', ',', 'the', 'art', 'form', 'into', 'which', 'his', 'creative', 'energies', 'went', 'was', 'not', 'remote', 'and', 'bookish', 'but', 'involved', 'the', 'vivid', 'stage', 'impersonation', 'of', 'human', 'beings', ',', 'commanding', 'sympathy', 'and', 'inviting', 'vicarious', 'participation', '.', 'Thus', ',', 'Shakespeare', '’s', 'merits', 'can', 'survive', 'translation', 'into', 'other', 'languages', 'and', 'into', 'cultures', 'remote', 'from', 'that', 'of', 'Elizabethan', 'England']\n"
     ]
    }
   ],
   "source": [
    "tokens=[token.text for token in doc]\n",
    "print(tokens)\n",
    "#List of tokens generated."
   ]
  },
  {
   "cell_type": "code",
   "execution_count": 56,
   "metadata": {},
   "outputs": [
    {
     "data": {
      "text/plain": [
       "'!\"#$%&\\'()*+,-./:;<=>?@[\\\\]^_`{|}~'"
      ]
     },
     "execution_count": 56,
     "metadata": {},
     "output_type": "execute_result"
    }
   ],
   "source": [
    "punctuation"
   ]
  },
  {
   "cell_type": "code",
   "execution_count": 57,
   "metadata": {},
   "outputs": [
    {
     "data": {
      "text/plain": [
       "['mostly',\n",
       " 'may',\n",
       " 'us',\n",
       " 'sixty',\n",
       " 're',\n",
       " 'thereupon',\n",
       " 'third',\n",
       " '’re',\n",
       " 'would',\n",
       " 'except',\n",
       " 'much',\n",
       " 'never',\n",
       " 'side',\n",
       " 'hundred',\n",
       " 'did',\n",
       " 'during',\n",
       " 'doing',\n",
       " 'full',\n",
       " 'myself',\n",
       " 'toward',\n",
       " 'among',\n",
       " 'in',\n",
       " 'of',\n",
       " 'something',\n",
       " 'above',\n",
       " 'what',\n",
       " 'throughout',\n",
       " 'him',\n",
       " 'first',\n",
       " \"'ll\",\n",
       " 'the',\n",
       " 'my',\n",
       " 'all',\n",
       " 'only',\n",
       " 'amongst',\n",
       " 'name',\n",
       " 'about',\n",
       " 'such',\n",
       " 'but',\n",
       " 'me',\n",
       " 'due',\n",
       " 'how',\n",
       " 'besides',\n",
       " 'somewhere',\n",
       " 'for',\n",
       " 'really',\n",
       " 'whereas',\n",
       " 'whereupon',\n",
       " 'can',\n",
       " 'out',\n",
       " 'put',\n",
       " 'few',\n",
       " 'whenever',\n",
       " 'here',\n",
       " 'had',\n",
       " 'always',\n",
       " 'done',\n",
       " 'very',\n",
       " 'give',\n",
       " 'i',\n",
       " 'nor',\n",
       " 'take',\n",
       " '’s',\n",
       " 'most',\n",
       " 'ourselves',\n",
       " 'has',\n",
       " 'further',\n",
       " 'whatever',\n",
       " 'n‘t',\n",
       " 'eight',\n",
       " 'five',\n",
       " 'mine',\n",
       " 'either',\n",
       " 'moreover',\n",
       " 'hereafter',\n",
       " 'there',\n",
       " 'n’t',\n",
       " 'beside',\n",
       " 'forty',\n",
       " 'somehow',\n",
       " 'yourselves',\n",
       " 'by',\n",
       " 'its',\n",
       " 'against',\n",
       " 'several',\n",
       " 'serious',\n",
       " 'ever',\n",
       " 'please',\n",
       " 'could',\n",
       " 'therefore',\n",
       " 'least',\n",
       " 'cannot',\n",
       " 'go',\n",
       " 'so',\n",
       " 'were',\n",
       " 'often',\n",
       " \"n't\",\n",
       " 'twenty',\n",
       " 'this',\n",
       " 'between',\n",
       " 'he',\n",
       " 'to',\n",
       " 'thence',\n",
       " 'is',\n",
       " 'thereafter',\n",
       " 'although',\n",
       " 'show',\n",
       " 'upon',\n",
       " 'your',\n",
       " 'whom',\n",
       " 'two',\n",
       " 'whereafter',\n",
       " 'still',\n",
       " '’ll',\n",
       " 'just',\n",
       " 'though',\n",
       " 'must',\n",
       " 'nothing',\n",
       " 'same',\n",
       " 'beforehand',\n",
       " 'four',\n",
       " 'will',\n",
       " 'across',\n",
       " 'why',\n",
       " 'keep',\n",
       " 'after',\n",
       " 'alone',\n",
       " 'say',\n",
       " 'might',\n",
       " 'elsewhere',\n",
       " 'being',\n",
       " 'enough',\n",
       " 'where',\n",
       " 'then',\n",
       " 'ca',\n",
       " '‘d',\n",
       " 'since',\n",
       " 'seemed',\n",
       " 'am',\n",
       " 'hers',\n",
       " '‘m',\n",
       " 'some',\n",
       " 'sometimes',\n",
       " 'which',\n",
       " 'nevertheless',\n",
       " 'ten',\n",
       " 'seem',\n",
       " 'it',\n",
       " 'each',\n",
       " 'afterwards',\n",
       " 'are',\n",
       " 'nine',\n",
       " 'other',\n",
       " 'they',\n",
       " 'over',\n",
       " 'whether',\n",
       " 'whoever',\n",
       " 'wherein',\n",
       " 'anyhow',\n",
       " 'therein',\n",
       " 'formerly',\n",
       " 'once',\n",
       " 'become',\n",
       " \"'d\",\n",
       " 'herself',\n",
       " 'get',\n",
       " 'until',\n",
       " 'fifteen',\n",
       " 'than',\n",
       " 'latterly',\n",
       " 'more',\n",
       " 'amount',\n",
       " 'everyone',\n",
       " 'make',\n",
       " 'own',\n",
       " 'does',\n",
       " '‘ve',\n",
       " 'whose',\n",
       " 'off',\n",
       " 'whole',\n",
       " 'beyond',\n",
       " 'been',\n",
       " 'before',\n",
       " 'various',\n",
       " 'see',\n",
       " 'under',\n",
       " 'neither',\n",
       " \"'m\",\n",
       " 'every',\n",
       " '‘s',\n",
       " 'again',\n",
       " 'nobody',\n",
       " 'almost',\n",
       " 'top',\n",
       " 'became',\n",
       " 'while',\n",
       " 'rather',\n",
       " 'around',\n",
       " 'you',\n",
       " 'whence',\n",
       " 'himself',\n",
       " 'others',\n",
       " 'becoming',\n",
       " 'one',\n",
       " 'we',\n",
       " 'already',\n",
       " 'as',\n",
       " 'anything',\n",
       " 'made',\n",
       " 'any',\n",
       " 'because',\n",
       " 'thru',\n",
       " 'nowhere',\n",
       " 'used',\n",
       " 'less',\n",
       " 'part',\n",
       " 'sometime',\n",
       " 'hence',\n",
       " 'anywhere',\n",
       " 'now',\n",
       " 'into',\n",
       " 'if',\n",
       " 'ours',\n",
       " 'empty',\n",
       " 'bottom',\n",
       " 'a',\n",
       " 'anyone',\n",
       " 'regarding',\n",
       " 'themselves',\n",
       " 'former',\n",
       " 'fifty',\n",
       " \"'ve\",\n",
       " 'quite',\n",
       " \"'s\",\n",
       " \"'re\",\n",
       " 'be',\n",
       " 'them',\n",
       " 'none',\n",
       " 'through',\n",
       " 'twelve',\n",
       " 'their',\n",
       " 'per',\n",
       " 'unless',\n",
       " '‘ll',\n",
       " 'many',\n",
       " 'otherwise',\n",
       " 'down',\n",
       " 'and',\n",
       " 'using',\n",
       " 'too',\n",
       " 'yet',\n",
       " 'three',\n",
       " 'was',\n",
       " 'below',\n",
       " 'with',\n",
       " 'itself',\n",
       " 'hereupon',\n",
       " 'yourself',\n",
       " 'his',\n",
       " 'next',\n",
       " 'from',\n",
       " 'last',\n",
       " 'another',\n",
       " 'six',\n",
       " '’d',\n",
       " '’m',\n",
       " 'at',\n",
       " 'her',\n",
       " 'these',\n",
       " '’ve',\n",
       " 'on',\n",
       " 'however',\n",
       " 'else',\n",
       " 'behind',\n",
       " 'call',\n",
       " 'seems',\n",
       " 'within',\n",
       " 'anyway',\n",
       " '‘re',\n",
       " 'move',\n",
       " 'latter',\n",
       " 'seeming',\n",
       " 'everything',\n",
       " 'do',\n",
       " 'well',\n",
       " 'someone',\n",
       " 'our',\n",
       " 'back',\n",
       " 'hereby',\n",
       " 'should',\n",
       " 'whereby',\n",
       " 'thus',\n",
       " 'yours',\n",
       " 'together',\n",
       " 'she',\n",
       " 'along',\n",
       " 'thereby',\n",
       " 'noone',\n",
       " 'namely',\n",
       " 'perhaps',\n",
       " 'via',\n",
       " 'both',\n",
       " 'becomes',\n",
       " 'onto',\n",
       " 'up',\n",
       " 'front',\n",
       " 'also',\n",
       " 'whither',\n",
       " 'indeed',\n",
       " 'even',\n",
       " 'towards',\n",
       " 'or',\n",
       " 'when',\n",
       " 'wherever',\n",
       " 'eleven',\n",
       " 'herein',\n",
       " 'not',\n",
       " 'without',\n",
       " 'an',\n",
       " 'who',\n",
       " 'those',\n",
       " 'that',\n",
       " 'everywhere',\n",
       " 'no',\n",
       " 'have',\n",
       " 'meanwhile']"
      ]
     },
     "execution_count": 57,
     "metadata": {},
     "output_type": "execute_result"
    }
   ],
   "source": [
    "stopwords"
   ]
  },
  {
   "cell_type": "code",
   "execution_count": 58,
   "metadata": {},
   "outputs": [
    {
     "name": "stdout",
     "output_type": "stream",
     "text": [
      "{'Shakespeare': 6, 'occupies': 1, 'position': 1, 'unique': 1, 'world': 1, 'literature': 1, 'poets': 1, 'Homer': 1, 'Dante': 1, 'novelists': 1, 'Leo': 1, 'Tolstoy': 1, 'Charles': 1, 'Dickens': 1, 'transcended': 1, 'national': 1, 'barriers': 1, 'writer': 2, 'living': 1, 'reputation': 1, 'compare': 1, 'plays': 1, 'written': 1, 'late': 1, '16th': 1, 'early': 1, '17th': 1, 'centuries': 1, 'small': 1, 'repertory': 1, 'theatre': 2, 'performed': 1, 'read': 2, 'countries': 1, 'prophecy': 1, 'great': 2, 'contemporary': 1, 'poet': 1, 'dramatist': 1, 'Ben': 1, 'Jonson': 1, '“': 1, 'age': 1, 'time': 1, '”': 1, 'fulfilled': 1, 'audacious': 1, 'attempt': 1, 'definition': 1, 'greatness': 1, 'difficult': 1, 'describe': 1, 'gifts': 1, 'enabled': 1, 'create': 1, 'imaginative': 1, 'visions': 1, 'pathos': 1, 'mirth': 1, 'witnessed': 1, 'fill': 1, 'mind': 3, 'linger': 1, 'intellectual': 1, 'rapidity': 1, 'perceptiveness': 1, 'poetic': 1, 'power': 1, 'writers': 2, 'qualities': 1, 'keenness': 2, 'applied': 3, 'abstruse': 1, 'remote': 3, 'subjects': 1, 'human': 3, 'beings': 2, 'complete': 1, 'range': 1, 'emotions': 1, 'conflicts': 1, 'way': 1, 'astonishingly': 1, 'clever': 1, 'words': 1, 'images': 1, 'mental': 1, 'energy': 1, 'intelligible': 1, 'situations': 1, 'finds': 1, 'memorable': 1, 'expression': 1, 'convincing': 1, 'imaginatively': 1, 'stimulating': 1, 'art': 1, 'form': 1, 'creative': 1, 'energies': 1, 'went': 1, 'bookish': 1, 'involved': 1, 'vivid': 1, 'stage': 1, 'impersonation': 1, 'commanding': 1, 'sympathy': 1, 'inviting': 1, 'vicarious': 1, 'participation': 1, 'merits': 1, 'survive': 1, 'translation': 1, 'languages': 1, 'cultures': 1, 'Elizabethan': 1, 'England': 1}\n"
     ]
    }
   ],
   "source": [
    "word_frequencies = {}\n",
    "for word in doc:\n",
    "    if word.text.lower() not in stopwords:\n",
    "        if word.text.lower() not in punctuation:\n",
    "            if word.text not in word_frequencies.keys():\n",
    "                word_frequencies[word.text] = 1\n",
    "            else:\n",
    "                word_frequencies[word.text] += 1\n",
    "                \n",
    "print(word_frequencies)\n",
    "#In this part of text cleaning we remove stop words and punctuations.\n",
    "#We created word frequencies."
   ]
  },
  {
   "cell_type": "code",
   "execution_count": 59,
   "metadata": {},
   "outputs": [
    {
     "data": {
      "text/plain": [
       "6"
      ]
     },
     "execution_count": 59,
     "metadata": {},
     "output_type": "execute_result"
    }
   ],
   "source": [
    "max_frequency = max(word_frequencies.values())\n",
    "max_frequency"
   ]
  },
  {
   "cell_type": "code",
   "execution_count": 60,
   "metadata": {},
   "outputs": [
    {
     "name": "stdout",
     "output_type": "stream",
     "text": [
      "{'Shakespeare': 1.0, 'occupies': 0.16666666666666666, 'position': 0.16666666666666666, 'unique': 0.16666666666666666, 'world': 0.16666666666666666, 'literature': 0.16666666666666666, 'poets': 0.16666666666666666, 'Homer': 0.16666666666666666, 'Dante': 0.16666666666666666, 'novelists': 0.16666666666666666, 'Leo': 0.16666666666666666, 'Tolstoy': 0.16666666666666666, 'Charles': 0.16666666666666666, 'Dickens': 0.16666666666666666, 'transcended': 0.16666666666666666, 'national': 0.16666666666666666, 'barriers': 0.16666666666666666, 'writer': 0.3333333333333333, 'living': 0.16666666666666666, 'reputation': 0.16666666666666666, 'compare': 0.16666666666666666, 'plays': 0.16666666666666666, 'written': 0.16666666666666666, 'late': 0.16666666666666666, '16th': 0.16666666666666666, 'early': 0.16666666666666666, '17th': 0.16666666666666666, 'centuries': 0.16666666666666666, 'small': 0.16666666666666666, 'repertory': 0.16666666666666666, 'theatre': 0.3333333333333333, 'performed': 0.16666666666666666, 'read': 0.3333333333333333, 'countries': 0.16666666666666666, 'prophecy': 0.16666666666666666, 'great': 0.3333333333333333, 'contemporary': 0.16666666666666666, 'poet': 0.16666666666666666, 'dramatist': 0.16666666666666666, 'Ben': 0.16666666666666666, 'Jonson': 0.16666666666666666, '“': 0.16666666666666666, 'age': 0.16666666666666666, 'time': 0.16666666666666666, '”': 0.16666666666666666, 'fulfilled': 0.16666666666666666, 'audacious': 0.16666666666666666, 'attempt': 0.16666666666666666, 'definition': 0.16666666666666666, 'greatness': 0.16666666666666666, 'difficult': 0.16666666666666666, 'describe': 0.16666666666666666, 'gifts': 0.16666666666666666, 'enabled': 0.16666666666666666, 'create': 0.16666666666666666, 'imaginative': 0.16666666666666666, 'visions': 0.16666666666666666, 'pathos': 0.16666666666666666, 'mirth': 0.16666666666666666, 'witnessed': 0.16666666666666666, 'fill': 0.16666666666666666, 'mind': 0.5, 'linger': 0.16666666666666666, 'intellectual': 0.16666666666666666, 'rapidity': 0.16666666666666666, 'perceptiveness': 0.16666666666666666, 'poetic': 0.16666666666666666, 'power': 0.16666666666666666, 'writers': 0.3333333333333333, 'qualities': 0.16666666666666666, 'keenness': 0.3333333333333333, 'applied': 0.5, 'abstruse': 0.16666666666666666, 'remote': 0.5, 'subjects': 0.16666666666666666, 'human': 0.5, 'beings': 0.3333333333333333, 'complete': 0.16666666666666666, 'range': 0.16666666666666666, 'emotions': 0.16666666666666666, 'conflicts': 0.16666666666666666, 'way': 0.16666666666666666, 'astonishingly': 0.16666666666666666, 'clever': 0.16666666666666666, 'words': 0.16666666666666666, 'images': 0.16666666666666666, 'mental': 0.16666666666666666, 'energy': 0.16666666666666666, 'intelligible': 0.16666666666666666, 'situations': 0.16666666666666666, 'finds': 0.16666666666666666, 'memorable': 0.16666666666666666, 'expression': 0.16666666666666666, 'convincing': 0.16666666666666666, 'imaginatively': 0.16666666666666666, 'stimulating': 0.16666666666666666, 'art': 0.16666666666666666, 'form': 0.16666666666666666, 'creative': 0.16666666666666666, 'energies': 0.16666666666666666, 'went': 0.16666666666666666, 'bookish': 0.16666666666666666, 'involved': 0.16666666666666666, 'vivid': 0.16666666666666666, 'stage': 0.16666666666666666, 'impersonation': 0.16666666666666666, 'commanding': 0.16666666666666666, 'sympathy': 0.16666666666666666, 'inviting': 0.16666666666666666, 'vicarious': 0.16666666666666666, 'participation': 0.16666666666666666, 'merits': 0.16666666666666666, 'survive': 0.16666666666666666, 'translation': 0.16666666666666666, 'languages': 0.16666666666666666, 'cultures': 0.16666666666666666, 'Elizabethan': 0.16666666666666666, 'England': 0.16666666666666666}\n"
     ]
    }
   ],
   "source": [
    "for word in word_frequencies.keys():\n",
    "    word_frequencies[word] = word_frequencies[word]/max_frequency\n",
    "\n",
    "    \n",
    "print(word_frequencies)\n",
    "#We calculated normalized frequencies"
   ]
  },
  {
   "cell_type": "code",
   "execution_count": 61,
   "metadata": {},
   "outputs": [
    {
     "name": "stdout",
     "output_type": "stream",
     "text": [
      "['Shakespeare occupies a position unique in world literature., Other poets, such as Homer and Dante, and novelists, such as Leo Tolstoy and Charles Dickens, have transcended national barriers, but no writer’s living reputation can compare to that of Shakespeare, whose plays, written in the late 16th and early 17th centuries for a small repertory theatre, are now performed and read more often and in more countries than ever before., The prophecy of his great contemporary, the poet and dramatist Ben Jonson, that Shakespeare “was not of an age, but for all time,” has been fulfilled., It may be audacious even to attempt a definition of his greatness, but it is not so difficult to describe the gifts that enabled him to create imaginative visions of pathos and mirth that, whether read or witnessed in the theatre, fill the mind and linger there., He is a writer of great intellectual rapidity, perceptiveness, and poetic power., Other writers have had these qualities, but with Shakespeare the keenness of mind was applied not to abstruse or remote subjects but to human beings and their complete range of emotions and conflicts., Other writers have applied their keenness of mind in this way, but Shakespeare is astonishingly clever with words and images, so that his mental energy, when applied to intelligible human situations, finds full and memorable expression, convincing and imaginatively stimulating., As if this were not enough, the art form into which his creative energies went was not remote and bookish but involved the vivid stage impersonation of human beings, commanding sympathy and inviting vicarious participation., Thus, Shakespeare’s merits can survive translation into other languages and into cultures remote from that of Elizabethan England]\n"
     ]
    }
   ],
   "source": [
    "sentence_tokens = [sent for sent in doc.sents]\n",
    "print(sentence_tokens)\n",
    "#We made sentence tokens"
   ]
  },
  {
   "cell_type": "code",
   "execution_count": 62,
   "metadata": {},
   "outputs": [
    {
     "data": {
      "text/plain": [
       "{'Shakespeare occupies a position unique in world literature.: 0.8333333333333333,\n",
       " Other poets, such as Homer and Dante, and novelists, such as Leo Tolstoy and Charles Dickens, have transcended national barriers, but no writer’s living reputation can compare to that of Shakespeare, whose plays, written in the late 16th and early 17th centuries for a small repertory theatre, are now performed and read more often and in more countries than ever before.: 4.166666666666666,\n",
       " The prophecy of his great contemporary, the poet and dramatist Ben Jonson, that Shakespeare “was not of an age, but for all time,” has been fulfilled.: 1.8333333333333335,\n",
       " It may be audacious even to attempt a definition of his greatness, but it is not so difficult to describe the gifts that enabled him to create imaginative visions of pathos and mirth that, whether read or witnessed in the theatre, fill the mind and linger there.: 3.833333333333333,\n",
       " He is a writer of great intellectual rapidity, perceptiveness, and poetic power.: 1.5,\n",
       " Other writers have had these qualities, but with Shakespeare the keenness of mind was applied not to abstruse or remote subjects but to human beings and their complete range of emotions and conflicts.: 4.166666666666666,\n",
       " Other writers have applied their keenness of mind in this way, but Shakespeare is astonishingly clever with words and images, so that his mental energy, when applied to intelligible human situations, finds full and memorable expression, convincing and imaginatively stimulating.: 5.166666666666668,\n",
       " As if this were not enough, the art form into which his creative energies went was not remote and bookish but involved the vivid stage impersonation of human beings, commanding sympathy and inviting vicarious participation.: 3.8333333333333326,\n",
       " Thus, Shakespeare’s merits can survive translation into other languages and into cultures remote from that of Elizabethan England: 1.3333333333333333}"
      ]
     },
     "execution_count": 62,
     "metadata": {},
     "output_type": "execute_result"
    }
   ],
   "source": [
    "sentence_scores = {}\n",
    "for sent in sentence_tokens:\n",
    "    for word in sent:\n",
    "        if word.text.lower() in word_frequencies.keys():\n",
    "            if sent not in sentence_scores.keys():\n",
    "                sentence_scores[sent] = word_frequencies[word.text.lower()]\n",
    "            else:\n",
    "                sentence_scores[sent] += word_frequencies[word.text.lower()]\n",
    "                \n",
    "sentence_scores\n",
    "#We calculated sentence scores"
   ]
  },
  {
   "cell_type": "code",
   "execution_count": 63,
   "metadata": {},
   "outputs": [],
   "source": [
    "from heapq import nlargest"
   ]
  },
  {
   "cell_type": "code",
   "execution_count": 64,
   "metadata": {},
   "outputs": [
    {
     "data": {
      "text/plain": [
       "2"
      ]
     },
     "execution_count": 64,
     "metadata": {},
     "output_type": "execute_result"
    }
   ],
   "source": [
    "select_length = int(len(sentence_tokens)*0.3)\n",
    "select_length\n",
    "#We get 30% of top sentences"
   ]
  },
  {
   "cell_type": "code",
   "execution_count": 65,
   "metadata": {},
   "outputs": [
    {
     "data": {
      "text/plain": [
       "[Other writers have applied their keenness of mind in this way, but Shakespeare is astonishingly clever with words and images, so that his mental energy, when applied to intelligible human situations, finds full and memorable expression, convincing and imaginatively stimulating.,\n",
       " Other poets, such as Homer and Dante, and novelists, such as Leo Tolstoy and Charles Dickens, have transcended national barriers, but no writer’s living reputation can compare to that of Shakespeare, whose plays, written in the late 16th and early 17th centuries for a small repertory theatre, are now performed and read more often and in more countries than ever before.]"
      ]
     },
     "execution_count": 65,
     "metadata": {},
     "output_type": "execute_result"
    }
   ],
   "source": [
    "summary = nlargest(select_length, sentence_scores, key = sentence_scores.get)\n",
    "summary"
   ]
  },
  {
   "cell_type": "code",
   "execution_count": 66,
   "metadata": {},
   "outputs": [],
   "source": [
    "final_summary = [word.text for word in summary]\n",
    "summary = ' '.join(final_summary)\n"
   ]
  },
  {
   "cell_type": "code",
   "execution_count": 67,
   "metadata": {},
   "outputs": [
    {
     "name": "stdout",
     "output_type": "stream",
     "text": [
      "Other writers have applied their keenness of mind in this way, but Shakespeare is astonishingly clever with words and images, so that his mental energy, when applied to intelligible human situations, finds full and memorable expression, convincing and imaginatively stimulating. Other poets, such as Homer and Dante, and novelists, such as Leo Tolstoy and Charles Dickens, have transcended national barriers, but no writer’s living reputation can compare to that of Shakespeare, whose plays, written in the late 16th and early 17th centuries for a small repertory theatre, are now performed and read more often and in more countries than ever before.\n"
     ]
    }
   ],
   "source": [
    "print(summary)"
   ]
  },
  {
   "cell_type": "code",
   "execution_count": 33,
   "metadata": {},
   "outputs": [
    {
     "data": {
      "text/plain": [
       "3507"
      ]
     },
     "execution_count": 33,
     "metadata": {},
     "output_type": "execute_result"
    }
   ],
   "source": [
    "len(text)"
   ]
  },
  {
   "cell_type": "code",
   "execution_count": 34,
   "metadata": {},
   "outputs": [
    {
     "data": {
      "text/plain": [
       "1824"
      ]
     },
     "execution_count": 34,
     "metadata": {},
     "output_type": "execute_result"
    }
   ],
   "source": [
    "len(summary)"
   ]
  },
  {
   "cell_type": "code",
   "execution_count": 8,
   "metadata": {},
   "outputs": [],
   "source": [
    "source1= \"\"\"this happened 5/6 years ago so my whole family every xmas day goes around to my aunties for celebrations. my cousin (of course) was there and he\n",
    "asked if i wanted to play cops and robbers. i accepted of course. now, next to the side of my aunts house is a little area with a small fence, a covered\n",
    "water tank and super duper sharp stones. my cousin (who was the cop) was gaining on me. i (tried) to jump over the fence, aaand i failed the jump\n",
    "and went crashing onto the gravel, my leg hitting the sharpest bit and, then the next thing i knew it had a nasty gash.\"\"\""
   ]
  },
  {
   "cell_type": "code",
   "execution_count": 15,
   "metadata": {},
   "outputs": [],
   "source": [
    "doc = nlp(source1)"
   ]
  },
  {
   "cell_type": "code",
   "execution_count": 34,
   "metadata": {},
   "outputs": [],
   "source": [
    "source2 = \"\"\"throwaway here for obvious reasons.. today my friends and i decided to go off-roading in nowhereland. we packed up all our stuff, made the roughly\n",
    "hour drive off to the mountains to make a fire, go fishing and just talk about life until we got too tired to stay any longer. we got everything packed\n",
    "up and brought along one of my friends’ dog because she’s awesome and loves the outdoors. the dog was flipping out in the suv on the way to the\n",
    "path because she knew was a kick-ass day she was about to have breaking out of her normally lame, domesticated dog life. my friends decided to\n",
    "drink during the off-roading adventure, which was fine because i volunteered to drive since i cannot drink alcohol (mouth is wired shut [long story\n",
    "but i can’t drink alcohol for a while]) so we were playing it safe. the dog couldn’t be any happier and was about to jump out of the truck (literally)\n",
    "when we got there so the dog’s owner let her get out and run along side of us while we drove the dirt road up to the destination for the fire. as i was\n",
    "driving, the dog went in and out of vision, mostly biting the tires as most dogs do, playing around. the owner kept asking us (the two guys up front)\n",
    "if we could see her. we said yes, and kept driving. as i was driving at no more than 5-10mph along the dirt road, i could hear the dog biting at the\n",
    "tires playfully, but we just laughed it off bc we thought she was having fun. the horrible, seconds-long event that ensued was me feeling the dreaded\n",
    "’double-thud’ under the tires and heard the dog yelp in pain. i instantly stopped the\"\"\""
   ]
  },
  {
   "cell_type": "code",
   "execution_count": 35,
   "metadata": {},
   "outputs": [],
   "source": [
    "doc = nlp(source2)"
   ]
  },
  {
   "cell_type": "code",
   "execution_count": 53,
   "metadata": {},
   "outputs": [],
   "source": [
    "source3= \"\"\"'Shakespeare occupies a position unique in world literature. Other poets, such as Homer and Dante, and novelists, such as Leo Tolstoy and Charles Dickens, have transcended national barriers, but no writer’s living reputation can compare to that of Shakespeare, whose plays, written in the late 16th and early 17th centuries for a small repertory theatre, are now performed and read more often and in more countries than ever before. The prophecy of his great contemporary, the poet and dramatist Ben Jonson, that Shakespeare “was not of an age, but for all time,” has been fulfilled. It may be audacious even to attempt a definition of his greatness, but it is not so difficult to describe the gifts that enabled him to create imaginative visions of pathos and mirth that, whether read or witnessed in the theatre, fill the mind and linger there. He is a writer of great intellectual rapidity, perceptiveness, and poetic power. Other writers have had these qualities, but with Shakespeare the keenness of mind was applied not to abstruse or remote subjects but to human beings and their complete range of emotions and conflicts. Other writers have applied their keenness of mind in this way, but Shakespeare is astonishingly clever with words and images, so that his mental energy, when applied to intelligible human situations, finds full and memorable expression, convincing and imaginatively stimulating. As if this were not enough, the art form into which his creative energies went was not remote and bookish but involved the vivid stage impersonation of human beings, commanding sympathy and inviting vicarious participation. Thus, Shakespeare’s merits can survive translation into other languages and into cultures remote from that of Elizabethan England\"\"\""
   ]
  },
  {
   "cell_type": "code",
   "execution_count": 54,
   "metadata": {},
   "outputs": [],
   "source": [
    "doc = nlp(source3)"
   ]
  }
 ],
 "metadata": {
  "kernelspec": {
   "display_name": "Python 3",
   "language": "python",
   "name": "python3"
  },
  "language_info": {
   "codemirror_mode": {
    "name": "ipython",
    "version": 3
   },
   "file_extension": ".py",
   "mimetype": "text/x-python",
   "name": "python",
   "nbconvert_exporter": "python",
   "pygments_lexer": "ipython3",
   "version": "3.8.3"
  }
 },
 "nbformat": 4,
 "nbformat_minor": 4
}
